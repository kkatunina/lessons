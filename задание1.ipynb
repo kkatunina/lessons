{
 "cells": [
  {
   "cell_type": "code",
   "execution_count": 5,
   "metadata": {},
   "outputs": [
    {
     "name": "stdout",
     "output_type": "stream",
     "text": [
      "Введите данные про длины сторон прямоугольника\n",
      "Введите длину первой стороны - 8\n"
     ]
    }
   ],
   "source": [
    "print('Введите данные про длины сторон прямоугольника') # ПЕРИМЕТР И ПЛОЩАДЬ ПРЯМОУГОЛЬНИКА\n",
    "a = int(input('Введите длину первой стороны - '))\n"
   ]
  },
  {
   "cell_type": "code",
   "execution_count": 4,
   "metadata": {},
   "outputs": [
    {
     "name": "stdout",
     "output_type": "stream",
     "text": [
      "Введите длину второй стороны - 9\n"
     ]
    }
   ],
   "source": [
    "b = int(input('Введите длину второй стороны - '))\n"
   ]
  },
  {
   "cell_type": "code",
   "execution_count": 56,
   "metadata": {},
   "outputs": [
    {
     "name": "stdout",
     "output_type": "stream",
     "text": [
      "площадь Вашего прямоугольника -  56 \n",
      "\n"
     ]
    }
   ],
   "source": [
    "print('площадь Вашего прямоугольника - ', a*b, '\\n')\n",
    "\n"
   ]
  },
  {
   "cell_type": "code",
   "execution_count": 8,
   "metadata": {},
   "outputs": [
    {
     "name": "stdout",
     "output_type": "stream",
     "text": [
      "периметр Вашего прямоугольника -  34\n"
     ]
    }
   ],
   "source": [
    "print('периметр Вашего прямоугольника - ', (a+b)*2)\n"
   ]
  },
  {
   "cell_type": "code",
   "execution_count": 117,
   "metadata": {},
   "outputs": [
    {
     "name": "stdout",
     "output_type": "stream",
     "text": [
      "Введите данные про длины сторон треугольника\n",
      "Введите длину первой стороны - 8\n",
      "Введите длину второй стороны - 1\n",
      "Введите длину третьей стороны - 2\n",
      "такого треугольника не существует\n"
     ]
    }
   ],
   "source": [
    "print('Введите данные про длины сторон треугольника') # ПЛОЩАДЬ ТРЕУГОЛЬНИКА\n",
    "a = float(input('Введите длину первой стороны - '))\n",
    "b = float(input('Введите длину второй стороны - '))\n",
    "c = float(input('Введите длину третьей стороны - '))\n",
    "if (a+c<b or b+c<a or a+b<c):\n",
    "    print ('такого треугольника не существует')\n",
    "    \n"
   ]
  },
  {
   "cell_type": "markdown",
   "metadata": {},
   "source": []
  },
  {
   "cell_type": "code",
   "execution_count": 45,
   "metadata": {},
   "outputs": [
    {
     "name": "stdout",
     "output_type": "stream",
     "text": [
      "периметр Вашего треугольника -  24\n"
     ]
    }
   ],
   "source": [
    "print('периметр Вашего треугольника - ', a+b+c)"
   ]
  },
  {
   "cell_type": "code",
   "execution_count": null,
   "metadata": {
    "collapsed": true
   },
   "outputs": [],
   "source": [
    "d = float(a+b+c)/2\n",
    "print ('Полупериметр =', d )\n",
    "print ('площадь Вашего треугольника - ', (d*(d-a)*(d-b)*(d-c))**0.5)"
   ]
  },
  {
   "cell_type": "code",
   "execution_count": null,
   "metadata": {
    "collapsed": true
   },
   "outputs": [],
   "source": [
    "print('ПЛОЩАДЬ круга') # ПЛОЩАДЬ круга\n",
    "R = int(input('Введите данные радиус круга - '))\n",
    "        "
   ]
  },
  {
   "cell_type": "code",
   "execution_count": null,
   "metadata": {
    "collapsed": true
   },
   "outputs": [],
   "source": [
    "p=float(3.14)\n",
    "S=p*(R**2)\n",
    "print('ПЛОЩАДЬ круга', S)"
   ]
  },
  {
   "cell_type": "code",
   "execution_count": null,
   "metadata": {
    "collapsed": true
   },
   "outputs": [],
   "source": []
  },
  {
   "cell_type": "code",
   "execution_count": null,
   "metadata": {
    "collapsed": true
   },
   "outputs": [],
   "source": []
  }
 ],
 "metadata": {
  "kernelspec": {
   "display_name": "Python 3",
   "language": "python",
   "name": "python3"
  },
  "language_info": {
   "codemirror_mode": {
    "name": "ipython",
    "version": 3
   },
   "file_extension": ".py",
   "mimetype": "text/x-python",
   "name": "python",
   "nbconvert_exporter": "python",
   "pygments_lexer": "ipython3",
   "version": "3.6.3"
  }
 },
 "nbformat": 4,
 "nbformat_minor": 2
}
