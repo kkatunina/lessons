{
 "cells": [
  {
   "cell_type": "code",
   "execution_count": null,
   "metadata": {
    "collapsed": true
   },
   "outputs": [],
   "source": [
    "N=int(input(\"Количество спичек - \"))\n",
    "while N>0:\n",
    "    a=int(input(\"Игрок1 забирает спички - \")) \n",
    "    if a>3 or a>N:\n",
    "        print(\"Ошибка\")\n",
    "        break\n",
    "    N=N-a \n",
    "    if N==0: \n",
    "        print(\"Выиграл игрок 1\")\n",
    "        break \n",
    "    print(\"Спичек осталось - \", N)\n",
    "    b=int(input(\"Игрок2 забирает спички - \"))\n",
    "    if b>3 or b>N:\n",
    "        print(\"Ошибка. Вы не можете взять столько спичек.\")\n",
    "        break\n",
    "    N=N-b \n",
    "    if N==0: \n",
    "        print(\"Выиграл игрок 2\")\n",
    "        break \n",
    "    print(\"Спичек осталось - \", N)\n"
   ]
  }
 ],
 "metadata": {
  "kernelspec": {
   "display_name": "Python 3",
   "language": "python",
   "name": "python3"
  },
  "language_info": {
   "codemirror_mode": {
    "name": "ipython",
    "version": 3
   },
   "file_extension": ".py",
   "mimetype": "text/x-python",
   "name": "python",
   "nbconvert_exporter": "python",
   "pygments_lexer": "ipython3",
   "version": "3.6.3"
  }
 },
 "nbformat": 4,
 "nbformat_minor": 2
}
